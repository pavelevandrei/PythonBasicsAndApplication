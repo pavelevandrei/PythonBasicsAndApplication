{
 "cells": [
  {
   "cell_type": "markdown",
   "metadata": {},
   "source": [
    "# Фунции и стек вызовов"
   ]
  },
  {
   "cell_type": "markdown",
   "metadata": {},
   "source": [
    "Пример вызова функций"
   ]
  },
  {
   "cell_type": "code",
   "execution_count": 3,
   "metadata": {},
   "outputs": [],
   "source": [
    "def printab(a, b):\n",
    "    print(a)\n",
    "    print(b)"
   ]
  },
  {
   "cell_type": "markdown",
   "metadata": {},
   "source": [
    "Все аргументы должны быть проинициализорованы, и ни один не должен быть проинициализирован дважды."
   ]
  },
  {
   "cell_type": "markdown",
   "metadata": {},
   "source": [
    "Корректные способы вызвать функцию. "
   ]
  },
  {
   "cell_type": "code",
   "execution_count": 4,
   "metadata": {},
   "outputs": [
    {
     "name": "stdout",
     "output_type": "stream",
     "text": [
      "10\n",
      "20\n"
     ]
    }
   ],
   "source": [
    "#позиционные аргументы\n",
    "printab(10, 20)"
   ]
  },
  {
   "cell_type": "code",
   "execution_count": 5,
   "metadata": {},
   "outputs": [
    {
     "name": "stdout",
     "output_type": "stream",
     "text": [
      "10\n",
      "20\n"
     ]
    }
   ],
   "source": [
    "# именованные аргументы\n",
    "printab(a = 10, b = 20)"
   ]
  },
  {
   "cell_type": "code",
   "execution_count": 6,
   "metadata": {},
   "outputs": [
    {
     "name": "stdout",
     "output_type": "stream",
     "text": [
      "10\n",
      "20\n"
     ]
    }
   ],
   "source": [
    "# можно менять местами\n",
    "printab(b = 20, a = 10)"
   ]
  },
  {
   "cell_type": "markdown",
   "metadata": {},
   "source": [
    "Если хотим совмещать данные подходы, то всегда сначала передаются позиционные аргументы, а затем именованные:"
   ]
  },
  {
   "cell_type": "code",
   "execution_count": 7,
   "metadata": {},
   "outputs": [
    {
     "name": "stdout",
     "output_type": "stream",
     "text": [
      "10\n",
      "20\n"
     ]
    }
   ],
   "source": [
    "printab(10, b = 20)"
   ]
  },
  {
   "cell_type": "code",
   "execution_count": 8,
   "metadata": {},
   "outputs": [
    {
     "ename": "SyntaxError",
     "evalue": "positional argument follows keyword argument (<ipython-input-8-a7186dee815a>, line 1)",
     "output_type": "error",
     "traceback": [
      "\u001b[1;36m  File \u001b[1;32m\"<ipython-input-8-a7186dee815a>\"\u001b[1;36m, line \u001b[1;32m1\u001b[0m\n\u001b[1;33m    printab(a = 10, 20)\u001b[0m\n\u001b[1;37m                   ^\u001b[0m\n\u001b[1;31mSyntaxError\u001b[0m\u001b[1;31m:\u001b[0m positional argument follows keyword argument\n"
     ]
    }
   ],
   "source": [
    "printab(a = 10, 20)"
   ]
  },
  {
   "cell_type": "markdown",
   "metadata": {},
   "source": [
    "### Передача массива в качестве аргументов (*)"
   ]
  },
  {
   "cell_type": "code",
   "execution_count": 13,
   "metadata": {},
   "outputs": [
    {
     "name": "stdout",
     "output_type": "stream",
     "text": [
      "10\n",
      "20\n"
     ]
    }
   ],
   "source": [
    "lst = [10, 20]\n",
    "printab(*lst) # эквивалентно printab(lst[0], lst[1])"
   ]
  },
  {
   "cell_type": "markdown",
   "metadata": {},
   "source": [
    "### С помощью ** мы можем передать значения словаря с соответствующими ключами в качестве именованных аргументов"
   ]
  },
  {
   "cell_type": "code",
   "execution_count": 15,
   "metadata": {},
   "outputs": [
    {
     "name": "stdout",
     "output_type": "stream",
     "text": [
      "10\n",
      "20\n"
     ]
    }
   ],
   "source": [
    "args = {'a' : 10, 'b' : 20}\n",
    "printab(**args) \n",
    "# эквивалентно printab(key1 = args[key1], key2 = args[key2]) - пары ключ - значение\n",
    "# printab(a = 10, b = 20)"
   ]
  },
  {
   "cell_type": "code",
   "execution_count": 20,
   "metadata": {},
   "outputs": [
    {
     "name": "stdout",
     "output_type": "stream",
     "text": [
      "a\n",
      "b\n"
     ]
    }
   ],
   "source": [
    "# Если использовать одну звездочку, то передадутся только ключи\n",
    "printab(*args)"
   ]
  },
  {
   "cell_type": "markdown",
   "metadata": {},
   "source": [
    "### Значение аргумента по умолчанию"
   ]
  },
  {
   "cell_type": "code",
   "execution_count": 23,
   "metadata": {},
   "outputs": [
    {
     "ename": "SyntaxError",
     "evalue": "non-default argument follows default argument (<ipython-input-23-e2e44986dc6b>, line 16)",
     "output_type": "error",
     "traceback": [
      "\u001b[1;36m  File \u001b[1;32m\"<ipython-input-23-e2e44986dc6b>\"\u001b[1;36m, line \u001b[1;32m16\u001b[0m\n\u001b[1;33m    def printab(a = 10, b):\u001b[0m\n\u001b[1;37m               ^\u001b[0m\n\u001b[1;31mSyntaxError\u001b[0m\u001b[1;31m:\u001b[0m non-default argument follows default argument\n"
     ]
    }
   ],
   "source": [
    "# корректно\n",
    "def printab(a, b):\n",
    "    print(a)\n",
    "    print(b)\n",
    "def printab(a, b = 20):\n",
    "    print(a)\n",
    "    print(b)\n",
    "# можем запустить функцию от одного аргумента, т.к. второй определен   \n",
    "printab(5)\n",
    "def printab(a = 10, b = 20):\n",
    "    print(a)\n",
    "    print(b)\n",
    "# можем запустить функцию без аргументов   \n",
    "printab()\n",
    "# некорректно, аргументы по умолчанию должны идти после аргументов без значения по умолчанию\n",
    "def printab(a = 10, b):\n",
    "    print(a)\n",
    "    print(b)\n"
   ]
  },
  {
   "cell_type": "markdown",
   "metadata": {},
   "source": [
    "### (* args) и (** kwargs) при определении функции. Неопределенное количество позиционных или именованных аргументов"
   ]
  },
  {
   "cell_type": "markdown",
   "metadata": {},
   "source": [
    "https://djangofan.ru/args-kwargs-python"
   ]
  },
  {
   "cell_type": "code",
   "execution_count": 33,
   "metadata": {},
   "outputs": [],
   "source": [
    "def printab(a, b, *args): # заворочиваем все позиционные аргументы, кроме явно указанных a, b, в кортеж\n",
    "    print('positional argument a = ', a)\n",
    "    print('positional argument b = ', b)\n",
    "    print('type of args - ',type(args))\n",
    "    print('additional arguments = ')\n",
    "    for arg in args:\n",
    "        print(arg)"
   ]
  },
  {
   "cell_type": "code",
   "execution_count": 34,
   "metadata": {},
   "outputs": [
    {
     "name": "stdout",
     "output_type": "stream",
     "text": [
      "positional argument a =  10\n",
      "positional argument b =  20\n",
      "type of args -  <class 'tuple'>\n",
      "additional arguments = \n",
      "30\n",
      "40\n",
      "world\n"
     ]
    }
   ],
   "source": [
    "printab(10, 20, 30, 40, 'world')"
   ]
  },
  {
   "cell_type": "code",
   "execution_count": 1,
   "metadata": {},
   "outputs": [],
   "source": [
    "def printab(a, b, **kwargs): # заворочиваем все именованные аргументы, кроме явно указанных, в словарь (ключ-значение)\n",
    "    print('positional argument a = ', a)\n",
    "    print('positional argument b = ', b)\n",
    "    print('type of kwargs - ',type(kwargs))\n",
    "    print('additional arguments = ')\n",
    "    for key in kwargs:\n",
    "        print(key, kwargs[key])"
   ]
  },
  {
   "cell_type": "code",
   "execution_count": 4,
   "metadata": {},
   "outputs": [
    {
     "name": "stdout",
     "output_type": "stream",
     "text": [
      "positional argument a =  10\n",
      "positional argument b =  20\n",
      "type of kwargs -  <class 'dict'>\n",
      "additional arguments = \n",
      "m 30\n",
      "c 40\n",
      "jimmi (17, 12)\n"
     ]
    }
   ],
   "source": [
    "printab(10, 20, m = 30, c = 40, jimmi = (17, 12))"
   ]
  },
  {
   "cell_type": "code",
   "execution_count": 5,
   "metadata": {},
   "outputs": [
    {
     "name": "stdout",
     "output_type": "stream",
     "text": [
      "positional argument a =  10\n",
      "positional argument b =  20\n",
      "type of kwargs -  <class 'dict'>\n",
      "additional arguments = \n",
      "m 30\n",
      "c 40\n",
      "jimmi (17, 12)\n"
     ]
    }
   ],
   "source": [
    "printab(10, m = 30, c = 40, jimmi = (17, 12), b = 20)"
   ]
  },
  {
   "cell_type": "markdown",
   "metadata": {},
   "source": [
    "Синтаксически верная общая форма вызова любой функции\n",
    "`def function_name([ positional_args,\n",
    "                   [ positional_args_with_default,\n",
    "                   [ *args,\n",
    "                   [ keyword_only_args (оч редко используется),\n",
    "                   [ **kwargs ]]]]])`"
   ]
  },
  {
   "cell_type": "code",
   "execution_count": 9,
   "metadata": {},
   "outputs": [
    {
     "name": "stdout",
     "output_type": "stream",
     "text": [
      "0 75 15 10 (3,) {'ex': 123}\n"
     ]
    }
   ],
   "source": [
    "def printab(a, b = 10, *args, c = 15, d, **kwargs):\n",
    "    print(a, b, c, d, args, kwargs)\n",
    "\n",
    "printab(0, 75, 3, d = 10, ex = 123)\n"
   ]
  },
  {
   "cell_type": "markdown",
   "metadata": {},
   "source": [
    "#### Задача о рекурсивном вычислении биномиальных коэффициентов"
   ]
  },
  {
   "cell_type": "markdown",
   "metadata": {},
   "source": [
    "Сочетанием из **n** элементов по **k** называется подмножество этих **n** элементов размера **k**.\n",
    "Два сочетания называются различными, если одно из сочетаний содержит элемент, который не содержит другое.\n",
    "Числом сочетаний из **n** по **k** называется количество различных сочетаний из **n** по **k**. Обозначим это число за **C(n, k)**.\n",
    "\n",
    "Пример:\n",
    "Пусть **n = 3**, т. е. есть три элемента **(1, 2, 3)**. Пусть **k = 2**.\n",
    "Все различные сочетания из 3 элементов по 2: **(1, 2), (1, 3), (2, 3)**.\n",
    "Различных сочетаний три, поэтому **C(3, 2) = 3**.\n",
    "\n",
    "Несложно понять, что **C(n, 0) = 1**, так как из **n** элементов выбрать **0** можно единственным образом, а именно, ничего не выбрать.\n",
    "Также несложно понять, что если **k > n**, то **C(n, k) = 0**, так как невозможно, например, из трех элементов выбрать пять.\n",
    "\n",
    "Для вычисления **C(n, k)** в других случаях используется следующая рекуррентная формула:\n",
    "**C(n, k) = C(n - 1, k) + C(n - 1, k - 1)**.\n",
    "\n",
    "Реализуйте программу, которая для заданных **n** и **k** вычисляет **C(n, k)**.\n",
    "\n",
    "Вашей программе на вход подается строка, содержащая два целых числа **n** и **k (1 ≤ n ≤ 10, 0 ≤ k ≤ 10)**.\n",
    "Ваша программа должна вывести единственное число: **C(n, k)**.\n",
    "\n",
    "Примечание:\n",
    "Считать два числа n и k вы можете, например, следующим образом:\n",
    "\n",
    "`n, k = map(int, input().split())`"
   ]
  },
  {
   "cell_type": "code",
   "execution_count": 11,
   "metadata": {},
   "outputs": [],
   "source": [
    "def C_n_k(n, k):\n",
    "    if k == 0:\n",
    "        return 1\n",
    "    if k > n:\n",
    "        return 0\n",
    "    return C_n_k(n-1, k)+C_n_k(n-1, k-1)"
   ]
  },
  {
   "cell_type": "code",
   "execution_count": 16,
   "metadata": {},
   "outputs": [
    {
     "name": "stdout",
     "output_type": "stream",
     "text": [
      "11 3\n",
      "165\n"
     ]
    }
   ],
   "source": [
    "n, k = map(int, input().split())\n",
    "print(C_n_k(n=n, k=k))"
   ]
  },
  {
   "cell_type": "code",
   "execution_count": null,
   "metadata": {},
   "outputs": [],
   "source": []
  }
 ],
 "metadata": {
  "kernelspec": {
   "display_name": "Python 3",
   "language": "python",
   "name": "python3"
  },
  "language_info": {
   "codemirror_mode": {
    "name": "ipython",
    "version": 3
   },
   "file_extension": ".py",
   "mimetype": "text/x-python",
   "name": "python",
   "nbconvert_exporter": "python",
   "pygments_lexer": "ipython3",
   "version": "3.7.3"
  }
 },
 "nbformat": 4,
 "nbformat_minor": 2
}
